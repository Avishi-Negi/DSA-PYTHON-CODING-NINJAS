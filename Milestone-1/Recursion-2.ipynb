{
 "cells": [
  {
   "cell_type": "markdown",
   "id": "8e623174",
   "metadata": {},
   "source": [
    "# Remove X"
   ]
  },
  {
   "cell_type": "code",
   "execution_count": null,
   "id": "a736c25b",
   "metadata": {},
   "outputs": [],
   "source": [
    "def removeX(s):\n",
    "    chr = 'x'\n",
    "    l = len(s)\n",
    "    if len(s) == 0:\n",
    "        return s\n",
    "    smalleroutput = removeX(s[1:])\n",
    "    if s[0] == chr :\n",
    "        return ''+smalleroutput\n",
    "    else:\n",
    "        return s[0]+smalleroutput\n",
    "    \n",
    "string = input()\n",
    "print(removeX(string))"
   ]
  },
  {
   "cell_type": "markdown",
   "id": "c021fc60",
   "metadata": {},
   "source": [
    "# Remove Duplicates Recursively"
   ]
  },
  {
   "cell_type": "code",
   "execution_count": null,
   "id": "2eabe901",
   "metadata": {},
   "outputs": [],
   "source": [
    "def removeConsecutiveDuplicates(s):\n",
    "    if len(s)<=1:\n",
    "        return s\n",
    "    smallOutput=removeConsecutiveDuplicates(s[1:])\n",
    "    if s[0]==s[1]:\n",
    "        return smallOutput\n",
    "    else:\n",
    "        return s[0]+smallOutput\n",
    "\n",
    "# Main\n",
    "string = input().strip()\n",
    "print(removeConsecutiveDuplicates(string))"
   ]
  },
  {
   "cell_type": "markdown",
   "id": "6d72611c",
   "metadata": {},
   "source": [
    "# Merge Sort Code"
   ]
  },
  {
   "cell_type": "code",
   "execution_count": null,
   "id": "fd391cb5",
   "metadata": {},
   "outputs": [],
   "source": [
    "def merge(a1, a2, a):\n",
    "    i = 0\n",
    "    j = 0\n",
    "    k = 0\n",
    "\n",
    "    while i < len(a1) and j < len(a2):\n",
    "        if a1[i] < a2[j]:\n",
    "            a[k] = a1[i]\n",
    "            k = k + 1\n",
    "            i = i + 1\n",
    "        else:\n",
    "            a[k] = a2[j]\n",
    "            k = k + 1\n",
    "            j = j + 1\n",
    "\n",
    "    while i < len(a1):\n",
    "        a[k] = a1[i]\n",
    "        k = k + 1\n",
    "        i = i + 1\n",
    "\n",
    "    while j < len(a2):\n",
    "        a[k] = a2[j]\n",
    "        k = k + 1\n",
    "        j = j + 1\n",
    "\n",
    "\n",
    "def MergeSort(a):\n",
    "    if len(a) == 0 or len(a) == 1:\n",
    "        return\n",
    "\n",
    "    mid = len(a) // 2\n",
    "\n",
    "    a1 = a[:mid]\n",
    "    a2 = a[mid:]\n",
    "\n",
    "    MergeSort(a1)\n",
    "    MergeSort(a2)\n",
    "\n",
    "    merge(a1, a2, a)\n",
    "# a = [5,2,45,12,3,6,52,41,25]"
   ]
  },
  {
   "cell_type": "markdown",
   "id": "ffbdb166",
   "metadata": {},
   "source": [
    "# Quick Sort Code"
   ]
  },
  {
   "cell_type": "code",
   "execution_count": null,
   "id": "ea8925ea",
   "metadata": {},
   "outputs": [],
   "source": [
    "def partition(arr,start,end):\n",
    "    pivot = arr[start]\n",
    "    c = 0\n",
    "\n",
    "    for i in range(start, end+1):\n",
    "        if arr[i] < pivot:\n",
    "            c += 1\n",
    "    arr[start + c], arr[start] = arr[start], arr[start+c]\n",
    "    pivot_index = start + c\n",
    "\n",
    "    i = start\n",
    "    j = end\n",
    "\n",
    "    while i < j:\n",
    "        if arr[i] < pivot:\n",
    "            i += 1\n",
    "        elif arr[j] >= pivot:\n",
    "            j -= 1\n",
    "        else:\n",
    "            arr[i], arr[j] = arr[j], arr[i]\n",
    "            i += 1\n",
    "            j -= 1\n",
    "    return pivot_index\n",
    "\n",
    "    \n",
    "\n",
    "\n",
    "def quickSort(arr, start, end):\n",
    "\n",
    "    if start >= end:\n",
    "        return -1\n",
    "    \n",
    "    pivot_index = partition(arr,start,end)\n",
    "    quickSort(arr, start, pivot_index-1)\n",
    "    quickSort(arr, pivot_index+1, end)\n",
    "   \n",
    "\n",
    " n = int(input())\n",
    "arr = list(int(i) for i in input().strip().split(' '))\n",
    "quickSort(arr, 0, n-1)\n",
    "print(*arr)"
   ]
  },
  {
   "cell_type": "markdown",
   "id": "d29d6910",
   "metadata": {},
   "source": [
    "# Tower of Hanoi Problem"
   ]
  },
  {
   "cell_type": "code",
   "execution_count": null,
   "id": "6c2734d0",
   "metadata": {},
   "outputs": [],
   "source": [
    "def tower_hanoi(n,a,b,c):\n",
    "    if n ==1:\n",
    "        print(\"move 1st disk from\",a,\"to\",c)\n",
    "        return\n",
    "    tower_hanoi(n-1,a,c,b)\n",
    "    print(\"move\",n,\"th disk from\",a,\"to\",c) \n",
    "    tower_hanoi(n-1,b,a,c)\n",
    "tower_hanoi(2,'s','h','d')"
   ]
  }
 ],
 "metadata": {
  "kernelspec": {
   "display_name": "Python 3 (ipykernel)",
   "language": "python",
   "name": "python3"
  },
  "language_info": {
   "codemirror_mode": {
    "name": "ipython",
    "version": 3
   },
   "file_extension": ".py",
   "mimetype": "text/x-python",
   "name": "python",
   "nbconvert_exporter": "python",
   "pygments_lexer": "ipython3",
   "version": "3.9.7"
  }
 },
 "nbformat": 4,
 "nbformat_minor": 5
}
