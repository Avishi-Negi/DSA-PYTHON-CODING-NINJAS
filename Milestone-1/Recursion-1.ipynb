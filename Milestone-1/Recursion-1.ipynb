{
 "cells": [
  {
   "cell_type": "markdown",
   "id": "e4511e02",
   "metadata": {},
   "source": [
    "# Sum of Array"
   ]
  },
  {
   "cell_type": "code",
   "execution_count": null,
   "id": "47cf58ec",
   "metadata": {},
   "outputs": [],
   "source": [
    "def sumArray(arr):\n",
    "    l=len(arr)\n",
    "    if l==0:\n",
    "        return 0\n",
    "    smallerlist=sumArray(arr[1:])\n",
    "    sum=arr[0]+smallerlist\n",
    "    return sum\n",
    "    pass\n",
    "\n",
    "from sys import setrecursionlimit\n",
    "setrecursionlimit(11000)\n",
    "n=int(input())\n",
    "arr=list(int(i) for i in input().strip().split(' '))\n",
    "print(sumArray(arr))"
   ]
  },
  {
   "cell_type": "code",
   "execution_count": null,
   "id": "afea1d43",
   "metadata": {},
   "outputs": [],
   "source": [
    "What will be the output of following code?\n",
    "\n",
    "#                  def func(num):\n",
    "#              return func(num-1)\n",
    "#                  num = 5\n",
    "#               ans = func(num-1)\n",
    "#            print(ans)\n",
    "\n",
    "#Answer - Recursion Eror\n"
   ]
  },
  {
   "cell_type": "code",
   "execution_count": null,
   "id": "acaf57ce",
   "metadata": {},
   "outputs": [],
   "source": [
    "What will be the output of this code?\n",
    "#           def printNumbers(n):\n",
    "#           if(n<0):\n",
    "#        return\n",
    "#        print(n,end=\" \")\n",
    "#        printNumbers(n-2)\n",
    "#        num = 5\n",
    "#        printNumbers(num)\n",
    "\n",
    "#Answer - 5 3 1"
   ]
  },
  {
   "cell_type": "code",
   "execution_count": null,
   "id": "92847164",
   "metadata": {},
   "outputs": [],
   "source": [
    "What will be the output of following code?\n",
    "#           def fun(n):\n",
    "#           if(n == 4):\n",
    "#            return n\n",
    "#           else:\n",
    "#            return 2*fun(n+1)\n",
    "\n",
    "\n",
    "#            print(fun(2))\n",
    "\n",
    "#Answer - 16"
   ]
  },
  {
   "cell_type": "markdown",
   "id": "6d104930",
   "metadata": {},
   "source": [
    "# Check Number in Array"
   ]
  },
  {
   "cell_type": "code",
   "execution_count": null,
   "id": "7b84dba5",
   "metadata": {},
   "outputs": [],
   "source": [
    "def checkNumber(arr, x):\n",
    "    l = len(arr)\n",
    "    if l==1:\n",
    "        return x == arr[0]\n",
    "    smallans = checkNumber(arr[:l-1],x)\n",
    "    return smallans or (x ==arr[l-1])\n",
    "    pass\n",
    "\n",
    "from sys import setrecursionlimit\n",
    "setrecursionlimit(11000)\n",
    "n = int(input())\n",
    "arr=list(int(i) for i in input().strip().split(' '))\n",
    "x=int(input())\n",
    "if checkNumber(arr, x):\n",
    "    print('true')\n",
    "else:\n",
    "    print('false')\n"
   ]
  },
  {
   "cell_type": "markdown",
   "id": "ab15ba61",
   "metadata": {},
   "source": [
    "# First Index of Number"
   ]
  },
  {
   "cell_type": "code",
   "execution_count": null,
   "id": "1f7c2dd1",
   "metadata": {},
   "outputs": [],
   "source": [
    "def firstIndex(arr, x):\n",
    "    l = len(arr)\n",
    "    if l ==0:\n",
    "        return -1\n",
    "    if arr[0]==x:\n",
    "        return 0\n",
    "    smallerlist = arr[1:]\n",
    "    smallerlistoutput= firstIndex(smallerlist,x)\n",
    "    \n",
    "    if smallerlistoutput == -1:\n",
    "        return -1\n",
    "    else:\n",
    "        return smallerlistoutput+1\n",
    "    \n",
    "    pass\n",
    "\n",
    "from sys import setrecursionlimit\n",
    "setrecursionlimit(11000)\n",
    "n=int(input())\n",
    "arr=list(int(i) for i in input().strip().split(' '))\n",
    "x=int(input())\n",
    "print(firstIndex(arr, x))"
   ]
  },
  {
   "cell_type": "markdown",
   "id": "749b6897",
   "metadata": {},
   "source": [
    "# Last Index of Number"
   ]
  },
  {
   "cell_type": "code",
   "execution_count": null,
   "id": "9959562d",
   "metadata": {},
   "outputs": [],
   "source": [
    "def lastIndex(arr, x):\n",
    "    l = len(arr)\n",
    "    if l == 0:\n",
    "        return -1\n",
    "\n",
    "    smallerList = arr[1:]\n",
    "    smallerListOutput = lastIndex(smallerList, x)\n",
    "    if smallerListOutput != -1:\n",
    "        return smallerListOutput + 1\n",
    "    else:\n",
    "        if arr[0] == x:\n",
    "            return 0\n",
    "        else:\n",
    "            return -1"
   ]
  }
 ],
 "metadata": {
  "kernelspec": {
   "display_name": "Python 3 (ipykernel)",
   "language": "python",
   "name": "python3"
  },
  "language_info": {
   "codemirror_mode": {
    "name": "ipython",
    "version": 3
   },
   "file_extension": ".py",
   "mimetype": "text/x-python",
   "name": "python",
   "nbconvert_exporter": "python",
   "pygments_lexer": "ipython3",
   "version": "3.9.7"
  }
 },
 "nbformat": 4,
 "nbformat_minor": 5
}
