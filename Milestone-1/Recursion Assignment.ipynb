{
 "cells": [
  {
   "cell_type": "markdown",
   "id": "c295ef8b",
   "metadata": {},
   "source": [
    "# Geometric Sum"
   ]
  },
  {
   "cell_type": "code",
   "execution_count": null,
   "id": "a9987528",
   "metadata": {},
   "outputs": [],
   "source": [
    "def Gsum(k):\n",
    "    if k==0:\n",
    "        return 1\n",
    "    return 1/2**k + Gsum(k-1)\n",
    "\n",
    "k = int(input())\n",
    "print (str.format('{0:.5f}',Gsum(k)))\n"
   ]
  },
  {
   "cell_type": "markdown",
   "id": "ab378389",
   "metadata": {},
   "source": [
    "# Check Palindrome (Recursive)"
   ]
  },
  {
   "cell_type": "code",
   "execution_count": null,
   "id": "dbf88b2f",
   "metadata": {},
   "outputs": [],
   "source": [
    "def isPalindrome(str):\n",
    "    if len(str)<=1:\n",
    "        return True\n",
    "    if str[0]!=str[len(str)-1]:\n",
    "        return False\n",
    "    return isPalindrome(str[1:-1])\n",
    "\n",
    "\n",
    "str = input()\n",
    "if isPalindrome(str):\n",
    "    print(\"true\")\n",
    "else:\n",
    "    print(\"false\")"
   ]
  },
  {
   "cell_type": "markdown",
   "id": "4d6bcfb6",
   "metadata": {},
   "source": [
    "# Sum of Digits (Recursive)"
   ]
  },
  {
   "cell_type": "code",
   "execution_count": null,
   "id": "7ea6e85a",
   "metadata": {},
   "outputs": [],
   "source": [
    "def Sumdigit(n):\n",
    "    if n <10:\n",
    "        return n\n",
    "    return (n%10)+Sumdigit(n//10)\n",
    "\n",
    "N=int(input())\n",
    "print(Sumdigit(N))"
   ]
  },
  {
   "cell_type": "markdown",
   "id": "071aef5b",
   "metadata": {},
   "source": [
    "# Multiplication (Recursive)"
   ]
  },
  {
   "cell_type": "code",
   "execution_count": null,
   "id": "62a2c3d0",
   "metadata": {},
   "outputs": [],
   "source": [
    "from sys import setrecursionlimit\n",
    "setrecursionlimit(10**6) \n",
    "\n",
    "def mul(m, n):\n",
    "\n",
    "    if m == 0 or n == 0:\n",
    "        return 0\n",
    " \n",
    "    if n == 1:\n",
    "        return m\n",
    " \n",
    "    if m == 1:\n",
    "        return n\n",
    " \n",
    "    return m + mul(m, n - 1)\n",
    "\n",
    "m = int(input())\n",
    "n = int(input())\n",
    "\n",
    "print(mul(m,n))"
   ]
  },
  {
   "cell_type": "markdown",
   "id": "35141368",
   "metadata": {},
   "source": [
    "# Count Zeroes"
   ]
  },
  {
   "cell_type": "code",
   "execution_count": null,
   "id": "3cbebab9",
   "metadata": {},
   "outputs": [],
   "source": [
    "def zero(n):\n",
    "    if n==0 :\n",
    "        return 0\n",
    "    \n",
    "    if n%10 == 0:\n",
    "        return 1 + zero(n//10)\n",
    "    else:\n",
    "        return zero(n//10)\n",
    "\n",
    "n = int(input())\n",
    "if n==0 :\n",
    "    print('1')\n",
    "else:\n",
    "    print(zero(n))"
   ]
  },
  {
   "cell_type": "markdown",
   "id": "0040db89",
   "metadata": {},
   "source": [
    "# String to Integer"
   ]
  },
  {
   "cell_type": "code",
   "execution_count": null,
   "id": "ecedc484",
   "metadata": {},
   "outputs": [],
   "source": [
    "def String_to_Integer(n,si):\n",
    "    if(si==0):\n",
    "        return int(n[si])\n",
    "    smalloutput=int(n[si])+10*String_to_Integer(n,si-1)\n",
    "    return smalloutput\n",
    "a=input()\n",
    "n=String_to_Integer(a,len(a)-1)\n",
    "print(n)"
   ]
  },
  {
   "cell_type": "markdown",
   "id": "daa7536c",
   "metadata": {},
   "source": [
    "# Pair Star"
   ]
  },
  {
   "cell_type": "code",
   "execution_count": null,
   "id": "16cb0e52",
   "metadata": {},
   "outputs": [],
   "source": [
    "def re(s):\n",
    "    n=len(s)\n",
    "    if n<=1 :\n",
    "        return s\n",
    "    temp = re(s[1:])\n",
    "    if s[0]==s[1]:\n",
    "        return s[0]+\"*\"+temp\n",
    "    else:\n",
    "        return s[0]+temp\n",
    " \n",
    "\n",
    "s= input().strip()\n",
    "print(re(s))"
   ]
  },
  {
   "cell_type": "markdown",
   "id": "88812627",
   "metadata": {},
   "source": [
    "# Check AB"
   ]
  },
  {
   "cell_type": "code",
   "execution_count": null,
   "id": "480372ea",
   "metadata": {},
   "outputs": [],
   "source": [
    "def checkab(s):\n",
    "    if len(s)==0:\n",
    "        return True\n",
    "    if s[0]==\"a\":\n",
    "        if len(s[1:])>1 and s[1:3]==\"bb\":\n",
    "            return checkab(s[3:])\n",
    "        else:\n",
    "            return checkab(s[1:])\n",
    "    else:\n",
    "        return False\n",
    "s=input()\n",
    "if checkab(s)==True:\n",
    "    print(\"true\")\n",
    "else:\n",
    "    print(\"false\")"
   ]
  },
  {
   "cell_type": "markdown",
   "id": "584ca0c1",
   "metadata": {},
   "source": [
    "# Stair Case"
   ]
  },
  {
   "cell_type": "code",
   "execution_count": null,
   "id": "77518d5a",
   "metadata": {},
   "outputs": [],
   "source": [
    "def Staircase(n):\n",
    "    if(n<=3):\n",
    "        if(n==1):\n",
    "            return 1\n",
    "        elif(n==2):\n",
    "            return 2\n",
    "        else:\n",
    "            return 4\n",
    "    x=Staircase(n-1)\n",
    "    y=Staircase(n-2)\n",
    "    z=Staircase(n-3)\n",
    "    return x+y+z\n",
    "n=int(input())\n",
    "a=Staircase(n)\n",
    "print(a)"
   ]
  }
 ],
 "metadata": {
  "kernelspec": {
   "display_name": "Python 3 (ipykernel)",
   "language": "python",
   "name": "python3"
  },
  "language_info": {
   "codemirror_mode": {
    "name": "ipython",
    "version": 3
   },
   "file_extension": ".py",
   "mimetype": "text/x-python",
   "name": "python",
   "nbconvert_exporter": "python",
   "pygments_lexer": "ipython3",
   "version": "3.9.7"
  }
 },
 "nbformat": 4,
 "nbformat_minor": 5
}
